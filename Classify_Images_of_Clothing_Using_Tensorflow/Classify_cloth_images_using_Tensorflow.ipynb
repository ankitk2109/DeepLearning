{
  "nbformat": 4,
  "nbformat_minor": 0,
  "metadata": {
    "accelerator": "GPU",
    "colab": {
      "name": "TensorFlow_Tutorial.ipynb",
      "provenance": [],
      "collapsed_sections": []
    },
    "kernelspec": {
      "display_name": "Python 3",
      "language": "python",
      "name": "python3"
    },
    "language_info": {
      "codemirror_mode": {
        "name": "ipython",
        "version": 3
      },
      "file_extension": ".py",
      "mimetype": "text/x-python",
      "name": "python",
      "nbconvert_exporter": "python",
      "pygments_lexer": "ipython3",
      "version": "3.7.4"
    }
  },
  "cells": [
    {
      "cell_type": "markdown",
      "metadata": {
        "id": "dCOhpP_NgdqS",
        "colab_type": "text"
      },
      "source": [
        "# Basic classification: Classify images of clothing using Tensorflow"
      ]
    },
    {
      "cell_type": "code",
      "metadata": {
        "colab_type": "code",
        "id": "dI9zOvyObF3k",
        "outputId": "7037fd50-33fd-4662-a784-11a18f3c7d1e",
        "colab": {
          "base_uri": "https://localhost:8080/",
          "height": 50
        }
      },
      "source": [
        "#Importing Libraries\n",
        "%tensorflow_version 2.x\n",
        "import tensorflow as tf\n",
        "from tensorflow import keras\n",
        "import numpy as np\n",
        "import matplotlib.pyplot as plt\n",
        "print(tf.__version__)"
      ],
      "execution_count": 1,
      "outputs": [
        {
          "output_type": "stream",
          "text": [
            "TensorFlow 2.x selected.\n",
            "2.1.0\n"
          ],
          "name": "stdout"
        }
      ]
    },
    {
      "cell_type": "markdown",
      "metadata": {
        "id": "4ECND2oIgtVu",
        "colab_type": "text"
      },
      "source": [
        "### Loading the FASHION_MNIST data"
      ]
    },
    {
      "cell_type": "code",
      "metadata": {
        "colab_type": "code",
        "id": "DC9GR-KqfkFJ",
        "colab": {
          "base_uri": "https://localhost:8080/",
          "height": 151
        },
        "outputId": "6cbd556a-7ed6-49c1-8cb3-be4254198f05"
      },
      "source": [
        "data = keras.datasets.fashion_mnist\n",
        "(X_train, y_train), (X_test, y_test) = data.load_data()\n",
        "\n",
        "#Total 10 classes and each represented by an integer.\n",
        "class_names = ['T-shirt/top', 'Trouser', 'Pullover', 'Dress', 'Coat',\n",
        "               'Sandal', 'Shirt', 'Sneaker', 'Bag', 'Ankle boot']"
      ],
      "execution_count": 3,
      "outputs": [
        {
          "output_type": "stream",
          "text": [
            "Downloading data from https://storage.googleapis.com/tensorflow/tf-keras-datasets/train-labels-idx1-ubyte.gz\n",
            "32768/29515 [=================================] - 0s 0us/step\n",
            "Downloading data from https://storage.googleapis.com/tensorflow/tf-keras-datasets/train-images-idx3-ubyte.gz\n",
            "26427392/26421880 [==============================] - 0s 0us/step\n",
            "Downloading data from https://storage.googleapis.com/tensorflow/tf-keras-datasets/t10k-labels-idx1-ubyte.gz\n",
            "8192/5148 [===============================================] - 0s 0us/step\n",
            "Downloading data from https://storage.googleapis.com/tensorflow/tf-keras-datasets/t10k-images-idx3-ubyte.gz\n",
            "4423680/4422102 [==============================] - 0s 0us/step\n"
          ],
          "name": "stdout"
        }
      ]
    },
    {
      "cell_type": "markdown",
      "metadata": {
        "id": "y1ImvekDgdrE",
        "colab_type": "text"
      },
      "source": [
        "### Scaling Images"
      ]
    },
    {
      "cell_type": "code",
      "metadata": {
        "colab_type": "code",
        "id": "fBNIFXujkX--",
        "colab": {
          "base_uri": "https://localhost:8080/",
          "height": 1000
        },
        "outputId": "e8507ed3-d7bd-40c9-ca7c-75769ea6b4f4"
      },
      "source": [
        "#Scaling the values between 0-1 by dividing by 255(max val of pixels)\n",
        "X_train = X_train.astype('float32')\n",
        "X_test = X_test.astype('float32')\n",
        "X_train /= 255\n",
        "X_test /= 255\n",
        "\n",
        "#Visualising an image\n",
        "plt.imshow(X_train[67], cmap=plt.cm.binary)\n",
        "plt.show()\n",
        "\n",
        "#Checking how an images looks like in numpy array format after scaling\n",
        "print(X_train[7])"
      ],
      "execution_count": 4,
      "outputs": [
        {
          "output_type": "display_data",
          "data": {
            "image/png": "[encoded data removed]",
            "text/plain": [
              "<Figure size 432x288 with 1 Axes>"
            ]
          },
          "metadata": {
            "tags": []
          }
        },
        {
          "output_type": "stream",
          "text": [
            "[[0.         0.         0.         0.         0.         0.00392157\n",
            "  0.00392157 0.         0.         0.         0.         0.24705882\n",
            "  0.10980392 0.         0.         0.         0.12941177 0.33333334\n",
            "  0.         0.         0.         0.         0.         0.\n",
            "  0.         0.         0.         0.        ]\n",
            " [0.         0.         0.         0.         0.         0.00784314\n",
            "  0.         0.         0.10980392 0.49411765 0.94509804 1.\n",
            "  1.         1.         1.         1.         1.         0.9882353\n",
            "  0.972549   0.43529412 0.         0.         0.         0.00784314\n",
            "  0.         0.         0.         0.        ]\n",
            " [0.         0.         0.         0.         0.00784314 0.\n",
            "  0.         0.80784315 0.95686275 0.9843137  0.94509804 0.9019608\n",
            "  0.93333334 0.8666667  0.8039216  0.9019608  0.9411765  0.9019608\n",
            "  0.9372549  0.9843137  0.9137255  0.64705884 0.         0.\n",
            "  0.00784314 0.         0.         0.        ]\n",
            " [0.         0.         0.         0.00392157 0.         0.\n",
            "  0.78039217 0.9843137  0.89411765 0.91764706 0.9137255  0.9254902\n",
            "  0.92156863 0.9607843  0.96862745 0.92941177 0.91764706 0.9372549\n",
            "  0.9019608  0.9019608  0.92156863 1.         0.6901961  0.\n",
            "  0.         0.00392157 0.         0.        ]\n",
            " [0.         0.         0.         0.         0.         0.31764707\n",
            "  0.99607843 0.8862745  0.89411765 0.9372549  0.92941177 0.9254902\n",
            "  0.91764706 0.9098039  0.9137255  0.92156863 0.92156863 0.9254902\n",
            "  0.9372549  0.92941177 0.9137255  0.88235295 0.9647059  0.28627452\n",
            "  0.         0.         0.         0.        ]\n",
            " [0.         0.         0.01176471 0.         0.         1.\n",
            "  0.92156863 0.9372549  0.8745098  0.91764706 0.93333334 0.9254902\n",
            "  0.92941177 0.9254902  0.92156863 0.92156863 0.92156863 0.92156863\n",
            "  0.9254902  0.92156863 0.91764706 0.9019608  0.90588236 1.\n",
            "  0.09411765 0.         0.01568628 0.        ]\n",
            " [0.         0.         0.         0.         0.69411767 0.9372549\n",
            "  0.8745098  0.99607843 0.8745098  0.9098039  0.91764706 0.91764706\n",
            "  0.9254902  0.9254902  0.92156863 0.92156863 0.92156863 0.92156863\n",
            "  0.92156863 0.91764706 0.90588236 0.9137255  0.87058824 0.9647059\n",
            "  0.34509805 0.         0.00392157 0.        ]\n",
            " [0.         0.         0.         0.         0.91764706 0.9372549\n",
            "  0.8980392  1.         0.8627451  0.9098039  0.9137255  0.9098039\n",
            "  0.91764706 0.92156863 0.92156863 0.92156863 0.92156863 0.92156863\n",
            "  0.91764706 0.9137255  0.9098039  0.9019608  0.89411765 0.99607843\n",
            "  0.54901963 0.         0.         0.        ]\n",
            " [0.         0.         0.         0.         0.88235295 0.9411765\n",
            "  0.8862745  1.         0.8666667  0.8901961  0.9098039  0.89411765\n",
            "  0.90588236 0.9019608  0.89411765 0.8980392  0.90588236 0.9019608\n",
            "  0.89411765 0.89411765 0.9098039  0.8745098  0.8980392  0.95686275\n",
            "  0.90588236 0.         0.         0.        ]\n",
            " [0.         0.         0.         0.18431373 0.9607843  0.90588236\n",
            "  0.91764706 0.9764706  0.8980392  0.8666667  0.8980392  0.88235295\n",
            "  0.8980392  0.8901961  0.8862745  0.8901961  0.89411765 0.8901961\n",
            "  0.89411765 0.8980392  0.89411765 0.8784314  0.9647059  0.9411765\n",
            "  0.8901961  0.         0.         0.        ]\n",
            " [0.         0.         0.         0.2        0.972549   0.9019608\n",
            "  0.9607843  0.9647059  0.9019608  0.8862745  0.9019608  0.8901961\n",
            "  0.9019608  0.8980392  0.89411765 0.8980392  0.9019608  0.89411765\n",
            "  0.89411765 0.90588236 0.88235295 0.8901961  0.9490196  0.92941177\n",
            "  1.         0.         0.         0.        ]\n",
            " [0.         0.         0.         0.39607844 0.99215686 0.8980392\n",
            "  0.96862745 0.94509804 0.8666667  0.9137255  0.89411765 0.8901961\n",
            "  0.8980392  0.89411765 0.8901961  0.89411765 0.9019608  0.8901961\n",
            "  0.9019608  0.91764706 0.88235295 0.8980392  0.9843137  0.8980392\n",
            "  0.9529412  0.21568628 0.         0.        ]\n",
            " [0.         0.         0.         0.4        1.         0.8901961\n",
            "  0.9490196  0.94509804 0.8666667  0.91764706 0.8745098  0.9019608\n",
            "  0.89411765 0.90588236 0.8980392  0.90588236 0.90588236 0.8901961\n",
            "  0.8980392  0.94509804 0.85882354 0.9254902  0.99607843 0.88235295\n",
            "  0.98039216 0.654902   0.         0.        ]\n",
            " [0.         0.         0.         0.3529412  1.         0.8980392\n",
            "  0.9254902  0.90588236 0.87058824 0.9254902  0.8745098  0.90588236\n",
            "  0.8980392  0.90588236 0.8980392  0.90588236 0.90588236 0.89411765\n",
            "  0.8784314  0.9607843  0.85490197 0.9529412  0.9372549  0.8901961\n",
            "  0.95686275 0.6862745  0.         0.        ]\n",
            " [0.         0.         0.         0.83137256 0.98039216 0.88235295\n",
            "  0.9254902  0.9764706  0.8980392  0.92941177 0.8745098  0.90588236\n",
            "  0.8980392  0.90588236 0.8980392  0.90588236 0.90588236 0.9019608\n",
            "  0.8666667  0.9529412  0.88235295 0.972549   0.9019608  0.9254902\n",
            "  0.91764706 1.         0.00392157 0.        ]\n",
            " [0.         0.         0.         0.9607843  0.9529412  0.9098039\n",
            "  0.9529412  0.85490197 0.89411765 0.93333334 0.87058824 0.90588236\n",
            "  0.8980392  0.90588236 0.8980392  0.90588236 0.90588236 0.9019608\n",
            "  0.87058824 0.92941177 0.92941177 0.9882353  0.8980392  0.9372549\n",
            "  0.9411765  0.8745098  0.         0.        ]\n",
            " [0.         0.         0.10588235 1.         0.92156863 0.9490196\n",
            "  0.92941177 0.84705883 0.9019608  0.9254902  0.8784314  0.8980392\n",
            "  0.8901961  0.9137255  0.9137255  0.9137255  0.9019608  0.89411765\n",
            "  0.8784314  0.9019608  0.9607843  0.96862745 0.8666667  0.9529412\n",
            "  0.9372549  0.9882353  0.         0.        ]\n",
            " [0.         0.         0.34509805 1.         0.9098039  0.972549\n",
            "  0.9254902  0.8156863  0.91764706 0.90588236 0.8745098  0.8901961\n",
            "  0.8862745  0.9137255  0.9098039  0.9098039  0.9019608  0.89411765\n",
            "  0.8784314  0.8784314  0.92156863 0.9137255  0.91764706 0.96862745\n",
            "  0.92156863 1.         0.         0.        ]\n",
            " [0.         0.         0.3254902  1.         0.88235295 0.98039216\n",
            "  0.92941177 0.8784314  0.9254902  0.8980392  0.88235295 0.88235295\n",
            "  0.8901961  0.92156863 0.8980392  0.90588236 0.9019608  0.9019608\n",
            "  0.8901961  0.8666667  0.8901961  0.8666667  0.9372549  0.98039216\n",
            "  0.90588236 1.         0.         0.        ]\n",
            " [0.         0.         0.07843138 1.         0.8784314  0.972549\n",
            "  0.91764706 0.8862745  0.9098039  0.87058824 0.88235295 0.8784314\n",
            "  0.90588236 0.93333334 0.8862745  0.9019608  0.89411765 0.9019608\n",
            "  0.9019608  0.8666667  0.8980392  0.88235295 0.95686275 0.9647059\n",
            "  0.9019608  1.         0.         0.        ]\n",
            " [0.         0.         0.37254903 1.         0.85490197 0.9490196\n",
            "  1.         0.9098039  0.8862745  0.8784314  0.8980392  0.89411765\n",
            "  0.89411765 0.9098039  0.89411765 0.8980392  0.90588236 0.9137255\n",
            "  0.9098039  0.8862745  0.8666667  0.8784314  0.96862745 0.95686275\n",
            "  0.89411765 1.         0.         0.        ]\n",
            " [0.         0.         0.654902   1.         0.8352941  0.92156863\n",
            "  1.         0.31764707 0.9607843  0.9843137  0.93333334 0.9254902\n",
            "  0.9019608  0.8980392  0.9019608  0.8980392  0.9019608  0.90588236\n",
            "  0.93333334 0.9411765  1.         0.7529412  1.         0.9372549\n",
            "  0.89411765 1.         0.09019608 0.        ]\n",
            " [0.         0.         0.6784314  0.9490196  0.8784314  0.9137255\n",
            "  1.         0.         0.53333336 0.8862745  0.9372549  1.\n",
            "  0.8980392  0.9254902  0.9254902  0.91764706 0.9137255  0.89411765\n",
            "  0.9843137  0.972549   0.78431374 0.31764707 1.         0.92941177\n",
            "  0.88235295 1.         0.39607844 0.        ]\n",
            " [0.         0.         0.6745098  1.         0.8862745  0.9137255\n",
            "  1.         0.         0.         0.         0.         0.\n",
            "  0.03137255 0.08235294 0.08627451 0.08235294 0.07843138 0.05490196\n",
            "  0.         0.         0.         0.         1.         0.93333334\n",
            "  0.8980392  0.9647059  0.69803923 0.        ]\n",
            " [0.         0.         0.0627451  1.         0.9254902  0.93333334\n",
            "  0.9882353  0.         0.         0.         0.         0.\n",
            "  0.         0.         0.         0.         0.         0.\n",
            "  0.         0.         0.         0.         0.87058824 0.95686275\n",
            "  0.87058824 0.99607843 0.46666667 0.        ]\n",
            " [0.         0.         0.         0.11764706 0.89411765 0.9490196\n",
            "  0.6392157  0.         0.         0.         0.         0.00784314\n",
            "  0.01568628 0.02352941 0.01960784 0.01960784 0.01568628 0.01568628\n",
            "  0.00784314 0.         0.00392157 0.         0.5921569  0.9843137\n",
            "  0.92156863 0.7058824  0.         0.        ]\n",
            " [0.         0.         0.         0.         0.91764706 1.\n",
            "  0.7490196  0.         0.04313726 0.         0.         0.\n",
            "  0.         0.         0.         0.         0.         0.\n",
            "  0.         0.         0.01568628 0.         0.40392157 0.9647059\n",
            "  0.96862745 0.28235295 0.         0.        ]\n",
            " [0.         0.         0.         0.00392157 0.37254903 0.3019608\n",
            "  0.20392157 0.         0.01568628 0.         0.         0.\n",
            "  0.         0.         0.         0.         0.         0.\n",
            "  0.         0.         0.01176471 0.         0.32156864 0.92941177\n",
            "  0.90588236 0.27450982 0.         0.        ]]\n"
          ],
          "name": "stdout"
        }
      ]
    },
    {
      "cell_type": "markdown",
      "metadata": {
        "id": "0Y1ZK0C3gdrT",
        "colab_type": "text"
      },
      "source": [
        "### Creating Neural Network"
      ]
    },
    {
      "cell_type": "code",
      "metadata": {
        "colab_type": "code",
        "id": "cKl0PPX1ji0s",
        "outputId": "7e9e033b-3800-4ccf-eee6-1fdb6addc0ae",
        "colab": {
          "base_uri": "https://localhost:8080/",
          "height": 252
        }
      },
      "source": [
        "#Initializing the model\n",
        "model = keras.Sequential()\n",
        "\n",
        "#Adding layers\n",
        "model.add(keras.layers.Flatten(input_shape = (28, 28))) #input image size = 28X28. Hence the input_shape = (28,28)\n",
        "model.add(keras.layers.Dense(128, activation='relu'))\n",
        "model.add(keras.layers.Dense(10, activation= 'softmax')) #Final output layer. Total 10 categories hence activation function = softmax\n",
        "model.summary()\n",
        "\n",
        "#Compiling the model and initializing the parameters\n",
        "model.compile(optimizer= 'rmsprop', loss = 'sparse_categorical_crossentropy', metrics=['accuracy'])"
      ],
      "execution_count": 5,
      "outputs": [
        {
          "output_type": "stream",
          "text": [
            "Model: \"sequential\"\n",
            "_________________________________________________________________\n",
            "Layer (type)                 Output Shape              Param #   \n",
            "=================================================================\n",
            "flatten (Flatten)            (None, 784)               0         \n",
            "_________________________________________________________________\n",
            "dense (Dense)                (None, 128)               100480    \n",
            "_________________________________________________________________\n",
            "dense_1 (Dense)              (None, 10)                1290      \n",
            "=================================================================\n",
            "Total params: 101,770\n",
            "Trainable params: 101,770\n",
            "Non-trainable params: 0\n",
            "_________________________________________________________________\n"
          ],
          "name": "stdout"
        }
      ]
    },
    {
      "cell_type": "code",
      "metadata": {
        "colab_type": "code",
        "id": "EgMOwvGqrCY6",
        "colab": {
          "base_uri": "https://localhost:8080/",
          "height": 1000
        },
        "outputId": "3e73857e-bf74-43e8-fc25-f372fb95b1e0"
      },
      "source": [
        "# Fitting the model and also evaluating against the Testing data.\n",
        "\n",
        "model.fit(X_train, y_train, \n",
        "          epochs=30, \n",
        "          validation_data=(X_test,y_test), \n",
        "          batch_size=64)"
      ],
      "execution_count": 6,
      "outputs": [
        {
          "output_type": "stream",
          "text": [
            "Train on 60000 samples, validate on 10000 samples\n",
            "Epoch 1/30\n",
            "60000/60000 [==============================] - 6s 96us/sample - loss: 0.5358 - accuracy: 0.8099 - val_loss: 0.4451 - val_accuracy: 0.8381\n",
            "Epoch 2/30\n",
            "60000/60000 [==============================] - 4s 59us/sample - loss: 0.3835 - accuracy: 0.8616 - val_loss: 0.4146 - val_accuracy: 0.8486\n",
            "Epoch 3/30\n",
            "60000/60000 [==============================] - 4s 60us/sample - loss: 0.3442 - accuracy: 0.8751 - val_loss: 0.4102 - val_accuracy: 0.8568\n",
            "Epoch 4/30\n",
            "60000/60000 [==============================] - 4s 59us/sample - loss: 0.3208 - accuracy: 0.8840 - val_loss: 0.3789 - val_accuracy: 0.8675\n",
            "Epoch 5/30\n",
            "60000/60000 [==============================] - 4s 60us/sample - loss: 0.3039 - accuracy: 0.8900 - val_loss: 0.3922 - val_accuracy: 0.8622\n",
            "Epoch 6/30\n",
            "60000/60000 [==============================] - 4s 59us/sample - loss: 0.2898 - accuracy: 0.8938 - val_loss: 0.3914 - val_accuracy: 0.8662\n",
            "Epoch 7/30\n",
            "60000/60000 [==============================] - 4s 59us/sample - loss: 0.2805 - accuracy: 0.8977 - val_loss: 0.3802 - val_accuracy: 0.8679\n",
            "Epoch 8/30\n",
            "60000/60000 [==============================] - 4s 59us/sample - loss: 0.2713 - accuracy: 0.9011 - val_loss: 0.3716 - val_accuracy: 0.8742\n",
            "Epoch 9/30\n",
            "60000/60000 [==============================] - 4s 59us/sample - loss: 0.2620 - accuracy: 0.9054 - val_loss: 0.3771 - val_accuracy: 0.8739\n",
            "Epoch 10/30\n",
            "60000/60000 [==============================] - 4s 60us/sample - loss: 0.2545 - accuracy: 0.9075 - val_loss: 0.3596 - val_accuracy: 0.8806\n",
            "Epoch 11/30\n",
            "60000/60000 [==============================] - 3s 58us/sample - loss: 0.2468 - accuracy: 0.9106 - val_loss: 0.3605 - val_accuracy: 0.8811\n",
            "Epoch 12/30\n",
            "60000/60000 [==============================] - 4s 59us/sample - loss: 0.2405 - accuracy: 0.9127 - val_loss: 0.3963 - val_accuracy: 0.8726\n",
            "Epoch 13/30\n",
            "60000/60000 [==============================] - 4s 59us/sample - loss: 0.2352 - accuracy: 0.9160 - val_loss: 0.3739 - val_accuracy: 0.8815\n",
            "Epoch 14/30\n",
            "60000/60000 [==============================] - 4s 59us/sample - loss: 0.2294 - accuracy: 0.9175 - val_loss: 0.4107 - val_accuracy: 0.8740\n",
            "Epoch 15/30\n",
            "60000/60000 [==============================] - 4s 59us/sample - loss: 0.2236 - accuracy: 0.9192 - val_loss: 0.3765 - val_accuracy: 0.8838\n",
            "Epoch 16/30\n",
            "60000/60000 [==============================] - 4s 59us/sample - loss: 0.2188 - accuracy: 0.9210 - val_loss: 0.3938 - val_accuracy: 0.8852\n",
            "Epoch 17/30\n",
            "60000/60000 [==============================] - 4s 59us/sample - loss: 0.2134 - accuracy: 0.9226 - val_loss: 0.3712 - val_accuracy: 0.8833\n",
            "Epoch 18/30\n",
            "60000/60000 [==============================] - 3s 58us/sample - loss: 0.2086 - accuracy: 0.9240 - val_loss: 0.4005 - val_accuracy: 0.8840\n",
            "Epoch 19/30\n",
            "60000/60000 [==============================] - 4s 59us/sample - loss: 0.2069 - accuracy: 0.9262 - val_loss: 0.4087 - val_accuracy: 0.8795\n",
            "Epoch 20/30\n",
            "60000/60000 [==============================] - 4s 59us/sample - loss: 0.2008 - accuracy: 0.9280 - val_loss: 0.4382 - val_accuracy: 0.8778\n",
            "Epoch 21/30\n",
            "60000/60000 [==============================] - 4s 59us/sample - loss: 0.1981 - accuracy: 0.9290 - val_loss: 0.4300 - val_accuracy: 0.8785\n",
            "Epoch 22/30\n",
            "60000/60000 [==============================] - 4s 59us/sample - loss: 0.1950 - accuracy: 0.9310 - val_loss: 0.4237 - val_accuracy: 0.8778\n",
            "Epoch 23/30\n",
            "60000/60000 [==============================] - 4s 59us/sample - loss: 0.1893 - accuracy: 0.9328 - val_loss: 0.4268 - val_accuracy: 0.8909\n",
            "Epoch 24/30\n",
            "60000/60000 [==============================] - 3s 58us/sample - loss: 0.1868 - accuracy: 0.9326 - val_loss: 0.4627 - val_accuracy: 0.8790\n",
            "Epoch 25/30\n",
            "60000/60000 [==============================] - 4s 60us/sample - loss: 0.1848 - accuracy: 0.9349 - val_loss: 0.4614 - val_accuracy: 0.8807\n",
            "Epoch 26/30\n",
            "60000/60000 [==============================] - 4s 58us/sample - loss: 0.1782 - accuracy: 0.9363 - val_loss: 0.4531 - val_accuracy: 0.8818\n",
            "Epoch 27/30\n",
            "60000/60000 [==============================] - 4s 59us/sample - loss: 0.1784 - accuracy: 0.9355 - val_loss: 0.4416 - val_accuracy: 0.8858\n",
            "Epoch 28/30\n",
            "60000/60000 [==============================] - 4s 59us/sample - loss: 0.1726 - accuracy: 0.9382 - val_loss: 0.5039 - val_accuracy: 0.8761\n",
            "Epoch 29/30\n",
            "60000/60000 [==============================] - 4s 59us/sample - loss: 0.1709 - accuracy: 0.9386 - val_loss: 0.4603 - val_accuracy: 0.8859\n",
            "Epoch 30/30\n",
            "60000/60000 [==============================] - 3s 58us/sample - loss: 0.1696 - accuracy: 0.9399 - val_loss: 0.4726 - val_accuracy: 0.8835\n"
          ],
          "name": "stdout"
        },
        {
          "output_type": "execute_result",
          "data": {
            "text/plain": [
              "<tensorflow.python.keras.callbacks.History at 0x7fe66013ef28>"
            ]
          },
          "metadata": {
            "tags": []
          },
          "execution_count": 6
        }
      ]
    },
    {
      "cell_type": "markdown",
      "metadata": {
        "id": "GvssnCktgdrv",
        "colab_type": "text"
      },
      "source": [
        "### Evaluating the model"
      ]
    },
    {
      "cell_type": "code",
      "metadata": {
        "colab_type": "code",
        "id": "foSDlvJjtDvj",
        "outputId": "b414e2c1-a7fe-4ac1-a000-3c805bdd1944",
        "colab": {
          "base_uri": "https://localhost:8080/",
          "height": 50
        }
      },
      "source": [
        "loss, acc = model.evaluate(X_test,y_test)\n",
        "print('Tested Accuracy:', acc)"
      ],
      "execution_count": 7,
      "outputs": [
        {
          "output_type": "stream",
          "text": [
            "10000/10000 [==============================] - 1s 76us/sample - loss: 0.4726 - accuracy: 0.8835\n",
            "Tested Accuracy: 0.8835\n"
          ],
          "name": "stdout"
        }
      ]
    },
    {
      "cell_type": "markdown",
      "metadata": {
        "id": "JSX44xX3gdr4",
        "colab_type": "text"
      },
      "source": [
        "### Predicting unseen clothes and visualizing few of them "
      ]
    },
    {
      "cell_type": "code",
      "metadata": {
        "colab_type": "code",
        "id": "f5UWvkYouvyE",
        "colab": {
          "base_uri": "https://localhost:8080/",
          "height": 1000
        },
        "outputId": "ba26a7b6-6d03-49b0-a54c-5fac63bbb514"
      },
      "source": [
        "predictions = model.predict(X_test)\n",
        "for i in range(10):\n",
        "  plt.imshow(X_test[i], cmap=plt.cm.binary)\n",
        "  plt.xlabel('Actual: '+ class_names[y_test[i]])\n",
        "  plt.title('Predictions: '+class_names[np.argmax(predictions[i])])\n",
        "  plt.show()"
      ],
      "execution_count": 8,
      "outputs": [
        {
          "output_type": "display_data",
          "data": {
            "image/png": "[encoded data removed]",
            "text/plain": [
              "<Figure size 432x288 with 1 Axes>"
            ]
          },
          "metadata": {
            "tags": []
          }
        },
        {
          "output_type": "display_data",
          "data": {
            "image/png": "[encoded data removed]",
            "text/plain": [
              "<Figure size 432x288 with 1 Axes>"
            ]
          },
          "metadata": {
            "tags": []
          }
        },
        {
          "output_type": "display_data",
          "data": {
            "image/png": "[encoded data removed]",
            "text/plain": [
              "<Figure size 432x288 with 1 Axes>"
            ]
          },
          "metadata": {
            "tags": []
          }
        },
        {
          "output_type": "display_data",
          "data": {
            "image/png": "[encoded data removed]",
            "text/plain": [
              "<Figure size 432x288 with 1 Axes>"
            ]
          },
          "metadata": {
            "tags": []
          }
        },
        {
          "output_type": "display_data",
          "data": {
            "image/png": "[encoded data removed]",
            "text/plain": [
              "<Figure size 432x288 with 1 Axes>"
            ]
          },
          "metadata": {
            "tags": []
          }
        },
        {
          "output_type": "display_data",
          "data": {
            "image/png": "[encoded data removed]",
            "text/plain": [
              "<Figure size 432x288 with 1 Axes>"
            ]
          },
          "metadata": {
            "tags": []
          }
        },
        {
          "output_type": "display_data",
          "data": {
            "image/png": "[encoded data removed]",
            "text/plain": [
              "<Figure size 432x288 with 1 Axes>"
            ]
          },
          "metadata": {
            "tags": []
          }
        },
        {
          "output_type": "display_data",
          "data": {
            "image/png": "[encoded data removed]",
            "text/plain": [
              "<Figure size 432x288 with 1 Axes>"
            ]
          },
          "metadata": {
            "tags": []
          }
        },
        {
          "output_type": "display_data",
          "data": {
            "image/png": "[encoded data removed]",
            "text/plain": [
              "<Figure size 432x288 with 1 Axes>"
            ]
          },
          "metadata": {
            "tags": []
          }
        },
        {
          "output_type": "display_data",
          "data": {
            "image/png": "[encoded data removed]",
            "text/plain": [
              "<Figure size 432x288 with 1 Axes>"
            ]
          },
          "metadata": {
            "tags": []
          }
        }
      ]
    },
    {
      "cell_type": "code",
      "metadata": {
        "id": "ybs2-Y0Mha5-",
        "colab_type": "code",
        "colab": {}
      },
      "source": [
        ""
      ],
      "execution_count": 0,
      "outputs": []
    }
  ]
}